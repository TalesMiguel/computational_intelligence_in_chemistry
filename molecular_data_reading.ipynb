{
 "cells": [
  {
   "cell_type": "markdown",
   "id": "fc99c904",
   "metadata": {},
   "source": [
    "# **Hands-on: molecular data reading**\n",
    "\n",
    "Author: Tales Miguel Machado Pereira\n",
    "RA: 140247\n",
    "Professor: Dr. Marcos Quiles"
   ]
  },
  {
   "cell_type": "markdown",
   "id": "51008625",
   "metadata": {},
   "source": [
    "### **1.Load and unpack the QM9 dataset**\n",
    "\n",
    "[Data for 133885 GDB-9 molecules](https://springernature.figshare.com/articles/dataset/Data_for_6095_constitutional_isomers_of_C7H10O2/1057646?backTo=%2Fcollections%2FQuantum_chemistry_structures_and_properties_of_134_kilo_molecules%2F978904&file=3195389)"
   ]
  },
  {
   "cell_type": "markdown",
   "id": "2be1c3da",
   "metadata": {},
   "source": [
    "#### **1.1. About the Dataset**\n",
    "\n",
    "\"Molecular structures and properties are publicly available at Figshare (Data Citation 1) in a plain text XYZ-like format described below. Deposited files include the 133, 885 GDB-1 to GDB-9 molecules (dsgdb9nsd.xyz.tar.bz2), the 6,095 constitutional isomers of C7H10O2 (dsC7O2H10nsd.xyz.tar.bz2), the 100 validation molecules (see Table 1) enthalpies of atomization (validation.txt), and atomic reference data (atomref.txt).\"\n",
    "\n",
    "[Ramakrishnan, R., Dral, P., Rupp, M. et al. Quantum chemistry structures and properties of 134 kilo molecules. Sci Data 1, 140022 (2014).](https://www.nature.com/articles/sdata201422#Sec4)"
   ]
  },
  {
   "cell_type": "markdown",
   "id": "39a3a6df",
   "metadata": {},
   "source": [
    "#### **1.2. General structure of QM9 XYZ files**\n",
    "\n",
    "- Line 1: Number of atoms in the molecule\n",
    "\n",
    "- Line 2: Extended header with computed molecular properties (16 values):\n",
    "    1. gdb ID - Database identifier\n",
    "    2. A - Rotational constant A (GHz)\n",
    "    3. B - Rotational constant B (GHz)\n",
    "    4. C - Rotational constant C (GHz)\n",
    "    5. μ - Dipole moment (Debye)\n",
    "    6. α - Isotropic polarizability (Bohr³)\n",
    "    7. εHOMO - Energy of Highest Occupied Molecular Orbital (Hartree)\n",
    "    8. εLUMO - Energy of Lowest Unoccupied Molecular Orbital (Hartree)\n",
    "    9. Δε - Gap between HOMO and LUMO (Hartree)\n",
    "    10. 〈R²〉 - Electronic spatial extent (Bohr²)\n",
    "    11. zpve - Zero point vibrational energy (Hartree)\n",
    "    12. U₀ - Internal energy at 0K (Hartree)\n",
    "    13. U - Internal energy at 298.15K (Hartree)\n",
    "    14. H - Enthalpy at 298.15K (Hartree)\n",
    "    15. G - Free energy at 298.15K (Hartree)\n",
    "    16. Cv - Heat capacity at 298.15K (cal/mol·K)\n",
    "\n",
    "- Lines 3 to N+2: Atomic coordinates and charges (5 columns):\n",
    "    1. Element symbol - Chemical element (C, H, N, O, etc.)\n",
    "    2. x coordinate - Position in Angstroms\n",
    "    3. y coordinate - Position in Angstroms\n",
    "    4. z coordinate - Position in Angstroms\n",
    "    5. Partial charge - Mulliken partial charge (electrons)\n",
    "    \n",
    "- Line N+3: Harmonic vibrational frequencies (cm⁻¹) - varies by molecule size\n",
    "\n",
    "- Line N+4: Mulliken charges by atom type\n",
    "\n",
    "- Lines N+5 & N+6: InChI strings for chemical identification and verification"
   ]
  },
  {
   "cell_type": "code",
   "execution_count": null,
   "id": "b60cafc4",
   "metadata": {},
   "outputs": [],
   "source": [
    "import tarfile\n",
    "import pandas as pd\n",
    "\n",
    "def unpack_database(db_path='db/dsgdb9nsd.xyz.tar.bz2', dest_path='db/qm9_unpacked'):\n",
    "    \"\"\"\n",
    "    Unpack \n",
    "    \"\"\"\n",
    "    # Unpack the tar.bz2 file\n",
    "    with tarfile.open(db_path, 'r:bz2') as tar:\n",
    "        tar.extractall(path=dest_path)\n",
    "\n",
    "    print(f\"\\nDatabase unpacked to {dest_path}\")\n",
    "\n",
    "\n",
    "# Path to the tar.bz2 file inside the db folder\n",
    "db_path = 'db/dsgdb9nsd.xyz.tar.bz2'\n",
    "dest_path = 'db/qm9_unpacked'\n",
    "unpack_database(db_path, dest_path)"
   ]
  },
  {
   "cell_type": "markdown",
   "id": "28d41f6c",
   "metadata": {},
   "source": [
    "### **2.XYZ File Parser**"
   ]
  },
  {
   "cell_type": "code",
   "execution_count": 11,
   "id": "43e687d9",
   "metadata": {},
   "outputs": [],
   "source": [
    "import os\n",
    "import glob\n",
    "import pandas as pd\n",
    "from rdkit import Chem\n",
    "import warnings\n",
    "warnings.filterwarnings('ignore')"
   ]
  },
  {
   "cell_type": "code",
   "execution_count": 17,
   "id": "383f69c9",
   "metadata": {},
   "outputs": [],
   "source": [
    "def parse_xyz_file(file_path):\n",
    "    \"\"\"Parse QM9 XYZ file and extract molecular properties and SMILES.\"\"\"\n",
    "    with open(file_path, 'r') as f:\n",
    "        lines = [line.strip() for line in f.readlines()]\n",
    "    \n",
    "    # Parse basic structure\n",
    "    n_atoms = int(lines[0])\n",
    "    header_parts = lines[1].split('\\t')\n",
    "    \n",
    "    # SMILES is on the line after vibrational frequencies\n",
    "    smiles_line_idx = 2 + n_atoms + 1\n",
    "    smiles = lines[smiles_line_idx].split('\\t')[0]  # Take first SMILES if duplicated\n",
    "    \n",
    "    # Extract key molecular properties\n",
    "    data = {\n",
    "        'gdb_id': int(header_parts[0].split()[1]),\n",
    "        'n_atoms': n_atoms,\n",
    "        'homo_lumo_gap': float(header_parts[8]),\n",
    "        'smiles': smiles\n",
    "    }\n",
    "    \n",
    "    return data"
   ]
  },
  {
   "cell_type": "code",
   "execution_count": 18,
   "id": "5ed514a0",
   "metadata": {},
   "outputs": [],
   "source": [
    "def validate_and_canonicalize_smiles(smiles):\n",
    "    \"\"\"Validate SMILES and generate canonical version.\"\"\"\n",
    "    # Validate original SMILES\n",
    "    mol = Chem.MolFromSmiles(smiles)\n",
    "    if mol is None:\n",
    "        return None, False\n",
    "    \n",
    "    # Generate canonical SMILES\n",
    "    canonical_smiles = Chem.MolToSmiles(mol, canonical=True)\n",
    "    \n",
    "    return canonical_smiles, True"
   ]
  },
  {
   "cell_type": "code",
   "execution_count": 19,
   "id": "00226ec8",
   "metadata": {},
   "outputs": [],
   "source": [
    "def process_xyz_files(directory_path, max_files=None):\n",
    "    \"\"\"Process XYZ files and extract SMILES and properties.\"\"\"\n",
    "    xyz_files = sorted(glob.glob(os.path.join(directory_path, \"*.xyz\")))\n",
    "    \n",
    "    if max_files:\n",
    "        xyz_files = xyz_files[:max_files]\n",
    "    \n",
    "    results = []\n",
    "    \n",
    "    for file_path in xyz_files:\n",
    "        # Parse XYZ file (SMILES already included)\n",
    "        data = parse_xyz_file(file_path)\n",
    "        \n",
    "        # Validate and canonicalize SMILES\n",
    "        canonical_smiles, is_valid = validate_and_canonicalize_smiles(data['smiles'])\n",
    "        \n",
    "        # Only keep valid molecules\n",
    "        if is_valid:\n",
    "            data['canonical_smiles'] = canonical_smiles\n",
    "            results.append(data)\n",
    "    \n",
    "    return pd.DataFrame(results)"
   ]
  },
  {
   "cell_type": "code",
   "execution_count": 20,
   "id": "cd0c464c",
   "metadata": {},
   "outputs": [
    {
     "name": "stdout",
     "output_type": "stream",
     "text": [
      "Processed 50 molecules\n",
      "Sample data:\n",
      "   gdb_id  n_atoms canonical_smiles  homo_lumo_gap\n",
      "0       1        5                C         0.5048\n",
      "1       2        4                N         0.3399\n",
      "2       3        3                O         0.3615\n",
      "3       4        4              C#C         0.3351\n",
      "4       5        3              C#N         0.3796\n"
     ]
    }
   ],
   "source": [
    "# Process sample of molecules\n",
    "df = process_xyz_files('db/qm9_unpacked', max_files=50)\n",
    "\n",
    "# Save results\n",
    "df.to_csv('qm9_sample_with_smiles.csv', index=False)\n",
    "\n",
    "print(f\"Processed {len(df)} molecules\")\n",
    "print(f\"Sample data:\")\n",
    "print(df[['gdb_id', 'n_atoms', 'canonical_smiles', 'homo_lumo_gap']].head())"
   ]
  },
  {
   "cell_type": "code",
   "execution_count": 16,
   "id": "fd178073",
   "metadata": {},
   "outputs": [],
   "source": [
    "# Uncomment to process the full dataset:\n",
    "# df_full = process_xyz_files('db/qm9_unpacked')\n",
    "# df_full.to_csv('qm9_complete_dataset.csv', index=False)"
   ]
  }
 ],
 "metadata": {
  "kernelspec": {
   "display_name": "base",
   "language": "python",
   "name": "python3"
  },
  "language_info": {
   "codemirror_mode": {
    "name": "ipython",
    "version": 3
   },
   "file_extension": ".py",
   "mimetype": "text/x-python",
   "name": "python",
   "nbconvert_exporter": "python",
   "pygments_lexer": "ipython3",
   "version": "3.13.5"
  }
 },
 "nbformat": 4,
 "nbformat_minor": 5
}
